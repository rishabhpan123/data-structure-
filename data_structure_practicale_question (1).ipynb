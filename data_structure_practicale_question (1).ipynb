{
  "cells": [
    {
      "cell_type": "markdown",
      "id": "c1487eaf-9bce-49e7-a994-add6ce33005d",
      "metadata": {
        "id": "c1487eaf-9bce-49e7-a994-add6ce33005d"
      },
      "source": [
        "## 1. Write a code to create a string with your name and print it."
      ]
    },
    {
      "cell_type": "code",
      "execution_count": null,
      "id": "1a531b2a-e0ae-480f-b969-3876e5299cc1",
      "metadata": {
        "id": "1a531b2a-e0ae-480f-b969-3876e5299cc1",
        "outputId": "838d39c4-0358-441e-d59b-4ed3dea5bba6"
      },
      "outputs": [
        {
          "name": "stdout",
          "output_type": "stream",
          "text": [
            "Rishabh\n"
          ]
        }
      ],
      "source": [
        "name = \"Rishabh\"\n",
        "print(name)"
      ]
    },
    {
      "cell_type": "markdown",
      "id": "8be42c3a-0d73-4027-87a9-c661ce899477",
      "metadata": {
        "id": "8be42c3a-0d73-4027-87a9-c661ce899477"
      },
      "source": [
        "## 2. Write a code to find the length of the string \"Hello World\"."
      ]
    },
    {
      "cell_type": "code",
      "execution_count": null,
      "id": "fc86d459-dba3-40c6-948d-57b0ecf1b7fe",
      "metadata": {
        "id": "fc86d459-dba3-40c6-948d-57b0ecf1b7fe",
        "outputId": "d1d780ba-8bb5-410e-e345-165ee9bd498d"
      },
      "outputs": [
        {
          "name": "stdout",
          "output_type": "stream",
          "text": [
            "11\n"
          ]
        }
      ],
      "source": [
        "text = \"Hello World\"\n",
        "print(len(text))"
      ]
    },
    {
      "cell_type": "markdown",
      "id": "5fcaef97-6b78-4ee4-8ec9-bc4a2a7de1d5",
      "metadata": {
        "id": "5fcaef97-6b78-4ee4-8ec9-bc4a2a7de1d5"
      },
      "source": [
        "## 3. Write a code to slice the first 8 characters from the string \"Python Programming\"."
      ]
    },
    {
      "cell_type": "code",
      "execution_count": null,
      "id": "788baa84-f59b-4a54-927f-e664b7ed06c2",
      "metadata": {
        "id": "788baa84-f59b-4a54-927f-e664b7ed06c2",
        "outputId": "6b8de726-4876-4574-9348-3fcc37b872b1"
      },
      "outputs": [
        {
          "name": "stdout",
          "output_type": "stream",
          "text": [
            "Python P\n"
          ]
        }
      ],
      "source": [
        "text = \"Python Programming\"\n",
        "print(text[:8])"
      ]
    },
    {
      "cell_type": "markdown",
      "id": "398e6338-d1a4-4f90-bc46-63e5685f3129",
      "metadata": {
        "id": "398e6338-d1a4-4f90-bc46-63e5685f3129"
      },
      "source": [
        "## 4. Write a code to convert the string \"hello\" to uppercase."
      ]
    },
    {
      "cell_type": "code",
      "execution_count": null,
      "id": "65677f6b-d06a-4181-9679-7caf34f7bc10",
      "metadata": {
        "id": "65677f6b-d06a-4181-9679-7caf34f7bc10",
        "outputId": "bc598120-aead-4313-a86b-d63c69a373c8"
      },
      "outputs": [
        {
          "name": "stdout",
          "output_type": "stream",
          "text": [
            "HELLO\n"
          ]
        }
      ],
      "source": [
        "text = \"hello\"\n",
        "print(text.upper())"
      ]
    },
    {
      "cell_type": "markdown",
      "id": "35b44fbf-4661-4078-8a9d-17e23fb8e389",
      "metadata": {
        "id": "35b44fbf-4661-4078-8a9d-17e23fb8e389"
      },
      "source": [
        "## 5. Write a code to replace the word \"apple\" with \"orange\" in the string \"I like apple\"."
      ]
    },
    {
      "cell_type": "code",
      "execution_count": null,
      "id": "e969da3d-7bed-40f5-b7f0-0d7b23f897e4",
      "metadata": {
        "id": "e969da3d-7bed-40f5-b7f0-0d7b23f897e4",
        "outputId": "89715ff2-cd8d-4b6d-e5d3-98cd9848c258"
      },
      "outputs": [
        {
          "name": "stdout",
          "output_type": "stream",
          "text": [
            "I like orange\n"
          ]
        }
      ],
      "source": [
        "text = \"I like apple\"\n",
        "print(text.replace(\"apple\", \"orange\"))"
      ]
    },
    {
      "cell_type": "markdown",
      "id": "0c749e4f-fad4-4403-ae26-e584e7913c6c",
      "metadata": {
        "id": "0c749e4f-fad4-4403-ae26-e584e7913c6c"
      },
      "source": [
        "## 6. Write a code to create a list with numbers 1 to 5 and print it."
      ]
    },
    {
      "cell_type": "code",
      "execution_count": null,
      "id": "231db523-05a1-4b3d-8e88-10be06dd189f",
      "metadata": {
        "id": "231db523-05a1-4b3d-8e88-10be06dd189f",
        "outputId": "950daad7-5808-4506-d298-21c5a73b113f"
      },
      "outputs": [
        {
          "name": "stdout",
          "output_type": "stream",
          "text": [
            "[1, 2, 3, 4, 5]\n"
          ]
        }
      ],
      "source": [
        "numbers = [1, 2, 3, 4, 5]\n",
        "print(numbers)"
      ]
    },
    {
      "cell_type": "markdown",
      "id": "26709c68-1478-49c9-bc4b-d522f2aee87a",
      "metadata": {
        "id": "26709c68-1478-49c9-bc4b-d522f2aee87a"
      },
      "source": [
        "## 7. Write a code to append the number 6 to the list [1, 2, 3, 4]."
      ]
    },
    {
      "cell_type": "code",
      "execution_count": null,
      "id": "585bf35e-41f3-4f78-9f91-2d5f6a8fe617",
      "metadata": {
        "id": "585bf35e-41f3-4f78-9f91-2d5f6a8fe617",
        "outputId": "966832f3-0169-4ef3-9548-84dfadfb479f"
      },
      "outputs": [
        {
          "name": "stdout",
          "output_type": "stream",
          "text": [
            "[1, 2, 3, 4, 6]\n"
          ]
        }
      ],
      "source": [
        "numbers = [1, 2, 3, 4]\n",
        "numbers.append(6)\n",
        "print(numbers)"
      ]
    },
    {
      "cell_type": "markdown",
      "id": "44cc41cf-819d-4fa3-8ffe-53e4af27a712",
      "metadata": {
        "id": "44cc41cf-819d-4fa3-8ffe-53e4af27a712"
      },
      "source": [
        "## 8. Write a code to remove the number 3 from the list [1, 2, 3, 4, 5]."
      ]
    },
    {
      "cell_type": "code",
      "execution_count": null,
      "id": "9818303b-2eef-4fef-b125-7ea818d254b2",
      "metadata": {
        "id": "9818303b-2eef-4fef-b125-7ea818d254b2",
        "outputId": "34c1b52f-71f5-4e77-e662-b5a18ad9f78a"
      },
      "outputs": [
        {
          "name": "stdout",
          "output_type": "stream",
          "text": [
            "[1, 2, 4, 5]\n"
          ]
        }
      ],
      "source": [
        "numbers = [1, 2, 3, 4, 5]\n",
        "numbers.remove(3)\n",
        "print(numbers)"
      ]
    },
    {
      "cell_type": "markdown",
      "id": "853b0d47-855d-4aea-860c-5d5a21ee86ce",
      "metadata": {
        "id": "853b0d47-855d-4aea-860c-5d5a21ee86ce"
      },
      "source": [
        "## 9. Write a code to access the second element in the list ['a', 'b', 'c', 'd']."
      ]
    },
    {
      "cell_type": "code",
      "execution_count": null,
      "id": "fe0a3508-8df7-48e9-a9c8-6ab5fa281db2",
      "metadata": {
        "id": "fe0a3508-8df7-48e9-a9c8-6ab5fa281db2",
        "outputId": "3d79ef68-d7d5-4c81-8074-162cdc038ad3"
      },
      "outputs": [
        {
          "name": "stdout",
          "output_type": "stream",
          "text": [
            "b\n"
          ]
        }
      ],
      "source": [
        "letters = ['a', 'b', 'c', 'd']\n",
        "print(letters[1]) # Indexing starts at 0"
      ]
    },
    {
      "cell_type": "markdown",
      "id": "1864fcbe-3e9d-48cd-812c-c171f0a134c1",
      "metadata": {
        "id": "1864fcbe-3e9d-48cd-812c-c171f0a134c1"
      },
      "source": [
        "## 10. Write a code to reverse the list [10, 20, 30, 40, 50]."
      ]
    },
    {
      "cell_type": "code",
      "execution_count": null,
      "id": "26a6856b-9f83-4be0-a498-cf87cb1570ca",
      "metadata": {
        "id": "26a6856b-9f83-4be0-a498-cf87cb1570ca",
        "outputId": "57d04733-c99e-4e77-8744-6e230d6a1b40"
      },
      "outputs": [
        {
          "name": "stdout",
          "output_type": "stream",
          "text": [
            "[50, 40, 30, 20, 10]\n"
          ]
        }
      ],
      "source": [
        "numbers = [10, 20, 30, 40, 50]\n",
        "numbers.reverse()\n",
        "print(numbers)"
      ]
    },
    {
      "cell_type": "markdown",
      "id": "65c88323-2627-48b4-ba26-3f3087fc7697",
      "metadata": {
        "id": "65c88323-2627-48b4-ba26-3f3087fc7697"
      },
      "source": [
        "## 11.  Write a code to create a tuple with the elements 100, 200, 300 and print it."
      ]
    },
    {
      "cell_type": "code",
      "execution_count": null,
      "id": "6526659c-665b-432b-b187-0c0a70720200",
      "metadata": {
        "id": "6526659c-665b-432b-b187-0c0a70720200",
        "outputId": "06cb772e-421a-41b4-f0ec-30bed23a1d0a"
      },
      "outputs": [
        {
          "name": "stdout",
          "output_type": "stream",
          "text": [
            "(100, 200, 300)\n"
          ]
        }
      ],
      "source": [
        "my_tuple = (100, 200, 300)\n",
        "print(my_tuple)"
      ]
    },
    {
      "cell_type": "markdown",
      "id": "3be1b2b9-24b2-449a-8172-a50011aa5208",
      "metadata": {
        "id": "3be1b2b9-24b2-449a-8172-a50011aa5208"
      },
      "source": [
        "## 12.  Write a code to access the second-to-last element of the tuple ('red', 'green', 'blue', 'yellow')."
      ]
    },
    {
      "cell_type": "code",
      "execution_count": null,
      "id": "704d701a-d8d9-4a73-ae52-d26ef3be4a4e",
      "metadata": {
        "id": "704d701a-d8d9-4a73-ae52-d26ef3be4a4e",
        "outputId": "d21430f3-7612-4dcd-afd7-eba1316684e7"
      },
      "outputs": [
        {
          "name": "stdout",
          "output_type": "stream",
          "text": [
            "blue\n"
          ]
        }
      ],
      "source": [
        "my_tuple = ('red', 'green', 'blue', 'yellow')\n",
        "print(my_tuple[-2])"
      ]
    },
    {
      "cell_type": "markdown",
      "id": "36065b29-2fee-4659-9beb-548f628bcbc8",
      "metadata": {
        "id": "36065b29-2fee-4659-9beb-548f628bcbc8"
      },
      "source": [
        "## 13. Write a code to find the minimum number in the tuple (10, 20, 5, 15)."
      ]
    },
    {
      "cell_type": "code",
      "execution_count": null,
      "id": "a5697154-bf6a-41c3-abdf-64a42aa0e200",
      "metadata": {
        "id": "a5697154-bf6a-41c3-abdf-64a42aa0e200",
        "outputId": "a305e621-ba85-4f7c-8ee0-892a2fcfee0f"
      },
      "outputs": [
        {
          "name": "stdout",
          "output_type": "stream",
          "text": [
            "5\n"
          ]
        }
      ],
      "source": [
        "my_tuple = (10, 20, 5, 15)\n",
        "print(min(my_tuple))"
      ]
    },
    {
      "cell_type": "markdown",
      "id": "db9b2acd-d29e-4e90-a617-12120d1a2de9",
      "metadata": {
        "id": "db9b2acd-d29e-4e90-a617-12120d1a2de9"
      },
      "source": [
        "## 14. Write a code to find the index of the element \"cat\" in the tuple ('dog', 'cat', 'rabbit')."
      ]
    },
    {
      "cell_type": "code",
      "execution_count": null,
      "id": "87edde8d-7ac2-4d7a-bab5-869d72116071",
      "metadata": {
        "id": "87edde8d-7ac2-4d7a-bab5-869d72116071",
        "outputId": "83ecbbfe-e1c3-4871-a74a-a3edc9feebd8"
      },
      "outputs": [
        {
          "name": "stdout",
          "output_type": "stream",
          "text": [
            "1\n"
          ]
        }
      ],
      "source": [
        "my_tuple = ('dog', 'cat', 'rabbit')\n",
        "print(my_tuple.index('cat'))"
      ]
    },
    {
      "cell_type": "markdown",
      "id": "3b7c19b4-f29d-4120-ab5c-63e3e0a43706",
      "metadata": {
        "id": "3b7c19b4-f29d-4120-ab5c-63e3e0a43706"
      },
      "source": [
        "## 15. Write a code to create a tuple containing three different fruits and check if \"kiwi\" is in it."
      ]
    },
    {
      "cell_type": "code",
      "execution_count": null,
      "id": "cc92b303-a6fb-4c0f-b4d2-5b3d6229dfac",
      "metadata": {
        "id": "cc92b303-a6fb-4c0f-b4d2-5b3d6229dfac",
        "outputId": "2190a3ac-98f3-4237-ef5f-b9a9f871258c"
      },
      "outputs": [
        {
          "name": "stdout",
          "output_type": "stream",
          "text": [
            "False\n"
          ]
        }
      ],
      "source": [
        "fruits = ('apple', 'banana', 'cherry')\n",
        "print('kiwi' in fruits)"
      ]
    },
    {
      "cell_type": "markdown",
      "id": "c76996b8-8333-4e68-8859-fbe3777b97f3",
      "metadata": {
        "id": "c76996b8-8333-4e68-8859-fbe3777b97f3"
      },
      "source": [
        "## 16. Write a code to create a set with the elements 'a', 'b', 'c' and print it."
      ]
    },
    {
      "cell_type": "code",
      "execution_count": null,
      "id": "917febd2-db84-4b05-88f2-7a6f59f6cb3a",
      "metadata": {
        "id": "917febd2-db84-4b05-88f2-7a6f59f6cb3a",
        "outputId": "8d311ea5-4f3c-4b66-e958-b7382f5fb499"
      },
      "outputs": [
        {
          "name": "stdout",
          "output_type": "stream",
          "text": [
            "{'b', 'a', 'c'}\n"
          ]
        }
      ],
      "source": [
        "my_set = {'a', 'b', 'c'}\n",
        "print(my_set)"
      ]
    },
    {
      "cell_type": "markdown",
      "id": "6476d0d2-9b52-4561-945c-4a3686f71e77",
      "metadata": {
        "id": "6476d0d2-9b52-4561-945c-4a3686f71e77"
      },
      "source": [
        "# 17.  Write a code to create a set with the elements 7, 5, 3 and print it."
      ]
    },
    {
      "cell_type": "code",
      "execution_count": null,
      "id": "b26b3d3f-c72f-4ca1-a12b-f91feae78c70",
      "metadata": {
        "id": "b26b3d3f-c72f-4ca1-a12b-f91feae78c70",
        "outputId": "342b29ea-206a-4321-cb7c-0cab36881181"
      },
      "outputs": [
        {
          "name": "stdout",
          "output_type": "stream",
          "text": [
            "{3, 5, 7}\n"
          ]
        }
      ],
      "source": [
        "my_set = {7, 5, 3}\n",
        "print(my_set)"
      ]
    },
    {
      "cell_type": "markdown",
      "id": "7bd12874-9830-43ea-88de-3d66cd2e292d",
      "metadata": {
        "id": "7bd12874-9830-43ea-88de-3d66cd2e292d"
      },
      "source": [
        "# 18. Write a code to remove the element 4 from the set {1, 2, 3, 4}."
      ]
    },
    {
      "cell_type": "code",
      "execution_count": null,
      "id": "34d20e3c-68fc-43ed-9780-5f6ac0776c9a",
      "metadata": {
        "id": "34d20e3c-68fc-43ed-9780-5f6ac0776c9a",
        "outputId": "7d4d18a4-fa7f-4e82-9798-77544874173f"
      },
      "outputs": [
        {
          "name": "stdout",
          "output_type": "stream",
          "text": [
            "{1, 2, 3}\n"
          ]
        }
      ],
      "source": [
        "my_set = {1, 2, 3, 4}\n",
        "my_set.remove(4)\n",
        "print(my_set)"
      ]
    },
    {
      "cell_type": "markdown",
      "id": "5cc2eb16-ccd0-4921-8943-d2abdae4103a",
      "metadata": {
        "id": "5cc2eb16-ccd0-4921-8943-d2abdae4103a"
      },
      "source": [
        "# 19. Write a code to find the union of two sets, {1, 2, 3} and {3, 4, 5}."
      ]
    },
    {
      "cell_type": "code",
      "execution_count": null,
      "id": "18b9fc2f-de45-4518-99ad-4c8eb9b244e3",
      "metadata": {
        "id": "18b9fc2f-de45-4518-99ad-4c8eb9b244e3",
        "outputId": "f434c805-c030-4d49-c5f9-c68c44ff0511"
      },
      "outputs": [
        {
          "name": "stdout",
          "output_type": "stream",
          "text": [
            "{1, 2, 3, 4, 5}\n"
          ]
        }
      ],
      "source": [
        "set1 = {1, 2, 3}\n",
        "set2 = {3, 4, 5}\n",
        "print(set1.union(set2))"
      ]
    },
    {
      "cell_type": "markdown",
      "id": "f94f5da1-caa0-49e9-bfbb-989fc8e24f22",
      "metadata": {
        "id": "f94f5da1-caa0-49e9-bfbb-989fc8e24f22"
      },
      "source": [
        "# 20. Write a code to find the intersection of two sets {1, 2, 3} and {2, 3, 4}."
      ]
    },
    {
      "cell_type": "code",
      "execution_count": null,
      "id": "4ec784e5-345d-49e5-8082-56bcf4ce8eb8",
      "metadata": {
        "id": "4ec784e5-345d-49e5-8082-56bcf4ce8eb8",
        "outputId": "f4cf803e-aa76-455b-d614-f37d869f6b4a"
      },
      "outputs": [
        {
          "name": "stdout",
          "output_type": "stream",
          "text": [
            "{2, 3}\n"
          ]
        }
      ],
      "source": [
        "set1 = {1, 2, 3}\n",
        "set2 = {2, 3, 4}\n",
        "print(set1.intersection(set2))"
      ]
    },
    {
      "cell_type": "markdown",
      "id": "7d8f8691-9f29-4c5e-900c-98a65634f233",
      "metadata": {
        "id": "7d8f8691-9f29-4c5e-900c-98a65634f233"
      },
      "source": [
        "# 21. Write a code to create a dictionary with the keys \"name\", \"age\" and \"city\" and print it."
      ]
    },
    {
      "cell_type": "code",
      "execution_count": null,
      "id": "eabed0df-f5d0-4db2-9d42-d56aea6eecb8",
      "metadata": {
        "id": "eabed0df-f5d0-4db2-9d42-d56aea6eecb8",
        "outputId": "699982ff-0277-44b8-d823-66657106ff3f"
      },
      "outputs": [
        {
          "name": "stdout",
          "output_type": "stream",
          "text": [
            "{'name': 'John', 'age': 25, 'city': 'New York'}\n"
          ]
        }
      ],
      "source": [
        "my_dict = {\"name\": \"John\", \"age\": 25, \"city\": \"New York\"}\n",
        "print(my_dict)"
      ]
    },
    {
      "cell_type": "markdown",
      "id": "b7153ff1-531d-4396-8d86-0ac4043823a7",
      "metadata": {
        "id": "b7153ff1-531d-4396-8d86-0ac4043823a7"
      },
      "source": [
        "# 22. Write a code to add a new key-value pair \"country\": \"USA\" to the dictionary."
      ]
    },
    {
      "cell_type": "code",
      "execution_count": null,
      "id": "7f792d85-2e70-4f86-9c54-d1d834b4c692",
      "metadata": {
        "id": "7f792d85-2e70-4f86-9c54-d1d834b4c692",
        "outputId": "35774346-1611-4602-81f3-3126d45d2c4b"
      },
      "outputs": [
        {
          "name": "stdout",
          "output_type": "stream",
          "text": [
            "{'name': 'John', 'age': 25, 'city': 'New York', 'country': 'USA'}\n"
          ]
        }
      ],
      "source": [
        "my_dict[\"country\"] = \"USA\"\n",
        "print(my_dict)"
      ]
    },
    {
      "cell_type": "markdown",
      "id": "fc543460-6180-435c-af65-892c41ef2e87",
      "metadata": {
        "id": "fc543460-6180-435c-af65-892c41ef2e87"
      },
      "source": [
        "## 23. Write a code to access the value associated with the key \"name\" in the dictionary."
      ]
    },
    {
      "cell_type": "code",
      "execution_count": null,
      "id": "4690e8c4-6a96-4ebf-9dd7-7400c8503a47",
      "metadata": {
        "id": "4690e8c4-6a96-4ebf-9dd7-7400c8503a47",
        "outputId": "568cca8d-f713-422c-c728-b63e0226612a"
      },
      "outputs": [
        {
          "name": "stdout",
          "output_type": "stream",
          "text": [
            "John\n"
          ]
        }
      ],
      "source": [
        "print(my_dict[\"name\"])"
      ]
    },
    {
      "cell_type": "markdown",
      "id": "6e2ba88d-c751-484f-9104-af197001a905",
      "metadata": {
        "id": "6e2ba88d-c751-484f-9104-af197001a905"
      },
      "source": [
        "## 24.  Write a code to remove the key \"age\" from the dictionary."
      ]
    },
    {
      "cell_type": "code",
      "execution_count": null,
      "id": "9ff757f9-5728-400d-a274-3244f0e864e0",
      "metadata": {
        "id": "9ff757f9-5728-400d-a274-3244f0e864e0",
        "outputId": "bb66b030-bc8c-403b-dbd2-ffddcdf2e2cc"
      },
      "outputs": [
        {
          "name": "stdout",
          "output_type": "stream",
          "text": [
            "{'name': 'John', 'city': 'New York', 'country': 'USA'}\n"
          ]
        }
      ],
      "source": [
        "del my_dict[\"age\"]\n",
        "print(my_dict)"
      ]
    },
    {
      "cell_type": "markdown",
      "id": "b063c153-a180-4428-9e2b-11ed317567b0",
      "metadata": {
        "id": "b063c153-a180-4428-9e2b-11ed317567b0"
      },
      "source": [
        "## 25. Write a code to check if the key \"city\" exists in the dictionary."
      ]
    },
    {
      "cell_type": "code",
      "execution_count": null,
      "id": "66db0fe6-b2ff-4bb9-b816-adae8dc62333",
      "metadata": {
        "id": "66db0fe6-b2ff-4bb9-b816-adae8dc62333",
        "outputId": "7932f9ba-cd2b-4c96-e7c2-52aba8ccbe4d"
      },
      "outputs": [
        {
          "name": "stdout",
          "output_type": "stream",
          "text": [
            "True\n"
          ]
        }
      ],
      "source": [
        "print(\"city\" in my_dict)"
      ]
    },
    {
      "cell_type": "markdown",
      "id": "a43e44e6-1d55-4cab-a5e2-e4103087d4d2",
      "metadata": {
        "id": "a43e44e6-1d55-4cab-a5e2-e4103087d4d2"
      },
      "source": [
        "## 26.  Write a code to create a list, a tuple, and a dictionary, and print them all."
      ]
    },
    {
      "cell_type": "code",
      "execution_count": null,
      "id": "6ba9e608-c931-4cb0-a3cb-97e60d9a296f",
      "metadata": {
        "id": "6ba9e608-c931-4cb0-a3cb-97e60d9a296f",
        "outputId": "6d50d660-90e5-4d57-8b45-e70511397c37"
      },
      "outputs": [
        {
          "name": "stdout",
          "output_type": "stream",
          "text": [
            "[1, 2, 3]\n",
            "(4, 5, 6)\n",
            "{'key1': 'value1', 'key2': 'value2'}\n"
          ]
        }
      ],
      "source": [
        "my_list = [1, 2, 3]\n",
        "my_tuple = (4, 5, 6)\n",
        "my_dict = {\"key1\": \"value1\", \"key2\": \"value2\"}\n",
        "print(my_list)\n",
        "print(my_tuple)\n",
        "print(my_dict)"
      ]
    },
    {
      "cell_type": "markdown",
      "id": "60051700-6437-4941-94fa-dfdbdb3e40d3",
      "metadata": {
        "id": "60051700-6437-4941-94fa-dfdbdb3e40d3"
      },
      "source": [
        "## 27. Write a code to create a list of 5 random numbers between 1 and 100, sort it in ascending order, and print the result."
      ]
    },
    {
      "cell_type": "code",
      "execution_count": null,
      "id": "0696631c-a3cd-4a84-9bde-9c141e6efbdd",
      "metadata": {
        "id": "0696631c-a3cd-4a84-9bde-9c141e6efbdd",
        "outputId": "c295a38b-d7b2-4699-8b3a-1a7abd85ec99"
      },
      "outputs": [
        {
          "name": "stdout",
          "output_type": "stream",
          "text": [
            "[2, 27, 35, 74, 82]\n"
          ]
        }
      ],
      "source": [
        "import random\n",
        "random_numbers = random.sample(range(1, 101), 5)\n",
        "random_numbers.sort()\n",
        "print(random_numbers)"
      ]
    },
    {
      "cell_type": "markdown",
      "id": "c391f9d7-85ad-47cc-8d5f-315531422321",
      "metadata": {
        "id": "c391f9d7-85ad-47cc-8d5f-315531422321"
      },
      "source": [
        "## 28.  Write a code to create a list with strings and print the element at the third index."
      ]
    },
    {
      "cell_type": "code",
      "execution_count": null,
      "id": "584f6b5f-0551-477e-9754-883fc4241b63",
      "metadata": {
        "id": "584f6b5f-0551-477e-9754-883fc4241b63",
        "outputId": "5a25df9b-6e32-4a4d-b3e2-ad18dc6abcd1"
      },
      "outputs": [
        {
          "name": "stdout",
          "output_type": "stream",
          "text": [
            "date\n"
          ]
        }
      ],
      "source": [
        "my_list = [\"apple\", \"banana\", \"cherry\", \"date\"]\n",
        "print(my_list[3])"
      ]
    },
    {
      "cell_type": "markdown",
      "id": "fb796701-3a39-4c5d-b640-8b3322caf6f4",
      "metadata": {
        "id": "fb796701-3a39-4c5d-b640-8b3322caf6f4"
      },
      "source": [
        "## 29. Write a code to combine two dictionaries into one and print the result."
      ]
    },
    {
      "cell_type": "code",
      "execution_count": null,
      "id": "5b740b8f-7374-474a-9a2d-4331e0e7c7f3",
      "metadata": {
        "colab": {
          "base_uri": "https://localhost:8080/"
        },
        "id": "5b740b8f-7374-474a-9a2d-4331e0e7c7f3",
        "outputId": "29a7ed43-2562-4f74-f3b5-6a98ec0ce8cf"
      },
      "outputs": [
        {
          "output_type": "stream",
          "name": "stdout",
          "text": [
            "{'name': 'Alice', 'age': 30, 'city': 'Paris', 'job': 'Engineer'}\n"
          ]
        }
      ],
      "source": [
        "dict1 = {\"name\": \"Alice\", \"age\": 30}\n",
        "dict2 = {\"city\": \"Paris\", \"job\": \"Engineer\"}\n",
        "combined_dict = {**dict1, **dict2}\n",
        "print(combined_dict)"
      ]
    },
    {
      "cell_type": "markdown",
      "id": "eed1378c-77cc-4e08-8076-fb5b3f5b68d5",
      "metadata": {
        "id": "eed1378c-77cc-4e08-8076-fb5b3f5b68d5"
      },
      "source": [
        "## 30. Write a code to convert a list of strings into a set."
      ]
    },
    {
      "cell_type": "code",
      "execution_count": null,
      "id": "836804f7-257d-4b7b-aebf-2e60fb9e9686",
      "metadata": {
        "colab": {
          "base_uri": "https://localhost:8080/"
        },
        "id": "836804f7-257d-4b7b-aebf-2e60fb9e9686",
        "outputId": "06d15b50-52a4-4051-bfdf-d440a9482964"
      },
      "outputs": [
        {
          "output_type": "stream",
          "name": "stdout",
          "text": [
            "{'apple', 'banana', 'cherry'}\n"
          ]
        }
      ],
      "source": [
        "my_list = [\"apple\", \"banana\", \"apple\", \"cherry\"]\n",
        "my_set = set(my_list)\n",
        "print(my_set)"
      ]
    },
    {
      "cell_type": "code",
      "execution_count": null,
      "id": "7411db9e-87c4-41f5-b926-a206ed2cd59d",
      "metadata": {
        "id": "7411db9e-87c4-41f5-b926-a206ed2cd59d"
      },
      "outputs": [],
      "source": []
    }
  ],
  "metadata": {
    "kernelspec": {
      "display_name": "Python [conda env:base] *",
      "language": "python",
      "name": "conda-base-py"
    },
    "language_info": {
      "codemirror_mode": {
        "name": "ipython",
        "version": 3
      },
      "file_extension": ".py",
      "mimetype": "text/x-python",
      "name": "python",
      "nbconvert_exporter": "python",
      "pygments_lexer": "ipython3",
      "version": "3.12.7"
    },
    "colab": {
      "provenance": []
    }
  },
  "nbformat": 4,
  "nbformat_minor": 5
}